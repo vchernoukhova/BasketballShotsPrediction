{
 "cells": [
  {
   "cell_type": "code",
   "execution_count": 1,
   "metadata": {},
   "outputs": [],
   "source": [
    "###### Installing packages ##########\n",
    "#import sys\n",
    "#!{sys.executable} -m pip install boostaroota"
   ]
  },
  {
   "cell_type": "code",
   "execution_count": 163,
   "metadata": {},
   "outputs": [],
   "source": [
    "import numpy as np\n",
    "import pandas as pd\n",
    "import re as re\n",
    "import pickle\n",
    "\n",
    "from sklearn.preprocessing import Imputer\n",
    "\n",
    "import matplotlib.pyplot as plt\n",
    "import seaborn as sns\n",
    "import time\n",
    "import scipy.stats as st\n",
    "import scipy.special as spec\n",
    "import math\n",
    "\n",
    "from sklearn.model_selection import train_test_split, StratifiedShuffleSplit,StratifiedKFold, RandomizedSearchCV, GridSearchCV\n",
    "\n",
    "from sklearn.metrics import accuracy_score, log_loss, roc_auc_score, precision_score, recall_score\n",
    "\n",
    "from sklearn.neighbors import KNeighborsClassifier\n",
    "from sklearn.svm import SVC, LinearSVC, NuSVC\n",
    "from sklearn.tree import DecisionTreeClassifier\n",
    "from sklearn.ensemble import RandomForestClassifier, AdaBoostClassifier, GradientBoostingClassifier, RandomForestRegressor\n",
    "from sklearn.naive_bayes import GaussianNB\n",
    "from sklearn.discriminant_analysis import LinearDiscriminantAnalysis, QuadraticDiscriminantAnalysis\n",
    "from sklearn.linear_model import LogisticRegression\n",
    "\n",
    "from math import log\n",
    "\n",
    "from boostaroota import BoostARoota\n",
    "from xgboost import XGBClassifier, plot_importance\n",
    "\n",
    "##########\n",
    "\n",
    "import warnings\n",
    "warnings.filterwarnings(\"ignore\")\n",
    "\n",
    "import nbimporter\n",
    "from setup_code import *"
   ]
  },
  {
   "cell_type": "code",
   "execution_count": 164,
   "metadata": {},
   "outputs": [],
   "source": [
    "data = pd.read_csv('nba_shots.csv')\n",
    "#data.set_index('GAME_ID1', inplace=True)"
   ]
  },
  {
   "cell_type": "code",
   "execution_count": 165,
   "metadata": {},
   "outputs": [],
   "source": [
    "############################## Creating Variables ##############################\n",
    "\n",
    "date_game = pd.DataFrame(data['MATCHUP'].str.split('-',1).tolist(), columns = ['GAME_DATE','TEAMS'])\n",
    "teams = pd.DataFrame(date_game['TEAMS'].str.split('@ | vs.',1).tolist(), columns = ['TEAM1','TEAM2'])\n",
    "minutes_split = pd.DataFrame(data['GAME_CLOCK'].str.split(':',1).tolist(), columns = ['min', 'sec'])\n",
    "\n",
    "#GAME_DATE\n",
    "data['GAME_DATE'] = pd.to_datetime(date_game['GAME_DATE'])\n",
    "\n",
    "#HOME_TEAM\n",
    "data.loc[data['LOCATION'] == 'H', 'HOME_TEAM'] = teams['TEAM1']\n",
    "data.loc[data['LOCATION'] == 'A', 'HOME_TEAM'] = teams['TEAM2']\n",
    "\n",
    "#AWAY_TEAM\n",
    "data.loc[data['LOCATION'] == 'H', 'AWAY_TEAM'] = teams['TEAM2']\n",
    "data.loc[data['LOCATION'] == 'A', 'AWAY_TEAM'] = teams['TEAM1']\n",
    "\n",
    "#PLAYER_TEAM\n",
    "data.loc[data['LOCATION'] == 'H', 'PLAYER_TEAM'] = data['HOME_TEAM']\n",
    "data.loc[data['LOCATION'] == 'A', 'PLAYER_TEAM'] = data['AWAY_TEAM']\n",
    "\n",
    "#GAME_CLOCK_SEC\n",
    "data['GAME_CLOCK_SEC'] = pd.to_numeric(minutes_split['min'])*60 + pd.to_numeric(minutes_split['sec'])\n",
    "\n",
    "#W\n",
    "data.loc[data['W']=='W','WIN_IND'] = 1\n",
    "data.loc[data['W']=='L','WIN_IND'] = 0\n",
    "\n",
    "#THREE_POINTS_SHOT\n",
    "data.loc[data['PTS_TYPE']== 3,'THREE_POINTS_SHOT'] = 1\n",
    "data.loc[data['PTS_TYPE']== 2,'THREE_POINTS_SHOT'] = 0\n",
    "\n",
    "#PLAYER_HOME\n",
    "data.loc[data['LOCATION'] == 'H', 'PLAYER_HOME'] = 1\n",
    "data.loc[data['LOCATION'] == 'A', 'PLAYER_HOME'] = 0\n",
    "\n",
    "#Weekday and Month\n",
    "data['GAME_WEEKDAY'] = data['GAME_DATE'].dt.weekday\n",
    "data['GAME_MONTH'] = data['GAME_DATE'].dt.month"
   ]
  },
  {
   "cell_type": "code",
   "execution_count": 166,
   "metadata": {},
   "outputs": [],
   "source": [
    "############################## Imputing Variables ##############################\n",
    "\n",
    "#data.isna().sum()\n",
    "data['SHOT_CLOCK'] = data['SHOT_CLOCK'].fillna(data['GAME_CLOCK_SEC'])"
   ]
  },
  {
   "cell_type": "code",
   "execution_count": 167,
   "metadata": {},
   "outputs": [],
   "source": [
    "############################## Changing Variables Types ##############################\n",
    "\n",
    "variables_to_categories = ['PERIOD', 'PTS_TYPE', 'GAME_WEEKDAY', 'GAME_MONTH', 'WIN_IND', 'THREE_POINTS_SHOT', \n",
    "                          'PLAYER_HOME']\n",
    "\n",
    "for variable in variables_to_categories:\n",
    "    data.loc[:,variable] = data[variable].astype('object')"
   ]
  },
  {
   "cell_type": "code",
   "execution_count": 178,
   "metadata": {},
   "outputs": [
    {
     "data": {
      "image/png": "[encoded data removed]",
      "text/plain": [
       "<matplotlib.figure.Figure at 0x1a1c31b828>"
      ]
     },
     "metadata": {},
     "output_type": "display_data"
    }
   ],
   "source": [
    "############################## Variables Exploration (Against Response)##############################\n",
    "variable = 'SHOT_CLOCK'\n",
    "\n",
    "\n",
    "if data[variable].dtype.kind == 'O':\n",
    "    plot_type = 'bar'\n",
    "else:\n",
    "    plot_type = 'scatter'\n",
    "    \n",
    "plot_against_response = data[[variable, 'FGM']].groupby([variable],\n",
    "                                     as_index=False).mean().sort_values(by = variable, ascending = True)\n",
    "\n",
    "plot_against_response.rename(index=str, columns={'FGM': 'Probability'}, inplace = True)\n",
    "plot = plot_against_response.plot(x=variable, y = 'Probability', kind=plot_type, figsize = (10,5))\n",
    "\n",
    "## Seems not important: SHOT_NUMBER, LOCATION"
   ]
  },
  {
   "cell_type": "code",
   "execution_count": 169,
   "metadata": {},
   "outputs": [
    {
     "data": {
      "image/png": "[encoded data removed]",
      "text/plain": [
       "<matplotlib.figure.Figure at 0x1a286363c8>"
      ]
     },
     "metadata": {},
     "output_type": "display_data"
    }
   ],
   "source": [
    "#tmp = data.groupby(['GAME_DATE']).size().reset_index(name ='NumberOfRecords').set_index(['GAME_DATE'])\n",
    "#plot = tmp.plot()\n",
    "\n",
    "tmp = data.groupby(['GAME_DATE'])['GAME_ID1'].nunique().reset_index(name ='NumberOfGames').set_index(['GAME_DATE'])\n",
    "plot = tmp.plot()"
   ]
  },
  {
   "cell_type": "code",
   "execution_count": 170,
   "metadata": {},
   "outputs": [],
   "source": [
    "#data.to_csv('check.csv', index = False, header = True)\n",
    "#data.head()"
   ]
  },
  {
   "cell_type": "code",
   "execution_count": 171,
   "metadata": {},
   "outputs": [],
   "source": [
    "# Per Player, per Game: count how many 2pts/3pts shots they shoot/made\n",
    "three_points_metrics = data.loc[data['THREE_POINTS_SHOT']==1,:].groupby(['player_id', 'GAME_ID1', 'GAME_DATE', 'WIN_IND','FINAL_MARGIN']).FGM.agg(['sum', 'count']).reset_index()\n",
    "three_points_metrics.rename(index=str, columns={'sum': 'SuccessfulShots3pts', 'count': 'Shots3pts'}, inplace = True)\n",
    "\n",
    "two_points_metrics = data.loc[data['THREE_POINTS_SHOT']==0,:].groupby(['player_id', 'GAME_ID1','GAME_DATE', 'WIN_IND', 'FINAL_MARGIN']).FGM.agg(['sum', 'count']).reset_index()\n",
    "two_points_metrics.rename(index=str, columns={'sum': 'SuccessfulShots2pts', 'count': 'Shots2pts'}, inplace = True)\n",
    "\n",
    "#merge into one table and replace NAs with 0 shots\n",
    "player_stats = three_points_metrics.merge(two_points_metrics, on = ['player_id', 'GAME_ID1','GAME_DATE', 'WIN_IND', 'FINAL_MARGIN'], \n",
    "                                          how = 'outer')\n",
    "player_stats.fillna(0, inplace = True)\n",
    "\n",
    "#sort so that you could search for past N games\n",
    "player_stats.sort_values(by = ['player_id', 'GAME_DATE'], inplace = True)\n",
    "\n",
    "#set date as index so you'd have it in your data when you calculate rolling metrics\n",
    "player_stats.set_index('GAME_DATE', inplace = True)\n",
    "player_stats.head()\n",
    "\n",
    "LookAtPastGames = [3,5]\n",
    "all_history = data.loc[:, ['player_id', 'GAME_DATE']].drop_duplicates()\n",
    "\n",
    "for PastGames in LookAtPastGames:\n",
    "    \n",
    "    #Find Wins and Shots for previous N games\n",
    "    player_wins = player_stats.groupby('player_id')['WIN_IND'].rolling(PastGames).sum().shift(1).reset_index(name = 'PastGamesPlayerWins')\n",
    "    player_final_margin = player_stats.groupby('player_id')['FINAL_MARGIN'].rolling(PastGames).sum().shift(1).reset_index(name = 'PastGamesFinalMargin')\n",
    "\n",
    "    player_shots3pt = player_stats.groupby('player_id')['Shots3pts'].rolling(PastGames).sum().shift(1).reset_index()\n",
    "    player_shots2pt = player_stats.groupby('player_id')['Shots2pts'].rolling(PastGames).sum().shift(1).reset_index()\n",
    "\n",
    "    player_success_shots3pt = player_stats.groupby('player_id')['SuccessfulShots3pts'].rolling(PastGames).sum().shift(1).reset_index()\n",
    "    player_success_shots2pt = player_stats.groupby('player_id')['SuccessfulShots2pts'].rolling(PastGames).sum().shift(1).reset_index()\n",
    "\n",
    "    #Group all the data together into \"player_stats_past_games\"\n",
    "    total_shots = player_shots3pt.merge (player_shots2pt, on = ['player_id', 'GAME_DATE'], how = 'outer')\n",
    "    success_shots = player_success_shots3pt.merge (player_success_shots2pt, on = ['player_id', 'GAME_DATE'], how = 'outer')\n",
    "    player_shots = total_shots.merge (success_shots, on = ['player_id', 'GAME_DATE'], how = 'outer')\n",
    "    \n",
    "    player_res = player_wins.merge(player_final_margin, on = ['player_id', 'GAME_DATE'], how = 'outer')\n",
    "    \n",
    "    player_stats_past_games = player_shots.merge(player_res, on = ['player_id', 'GAME_DATE'], how = 'outer')\n",
    "\n",
    "    #Calculate ratio metrics\n",
    "    player_stats_past_games['PastGamePlayerAccuracy2pts'] = player_stats_past_games['SuccessfulShots2pts']/ player_stats_past_games['Shots2pts']\n",
    "    player_stats_past_games['PastGamePlayerAccuracy3pts'] = player_stats_past_games['SuccessfulShots3pts']/ player_stats_past_games['Shots3pts']\n",
    "\n",
    "    player_stats_past_games['PastGamesPlayerWinPrcnt'] = player_stats_past_games['PastGamesPlayerWins']/10\n",
    "    \n",
    "    columns = list(player_stats_past_games)\n",
    "    columns.remove('player_id')\n",
    "    columns.remove('GAME_DATE')\n",
    "    new_columns = [element+str(PastGames)+'Games' for element in columns]\n",
    "       \n",
    "    player_stats_past_games.rename(columns = dict(zip(columns, new_columns)), inplace = True)\n",
    "\n",
    "    all_history = all_history.merge(player_stats_past_games,on = ['player_id', 'GAME_DATE'], how = 'left')"
   ]
  },
  {
   "cell_type": "code",
   "execution_count": 172,
   "metadata": {},
   "outputs": [],
   "source": [
    "columns = list(all_history)\n",
    "columns.remove('player_id')\n",
    "columns.remove('GAME_DATE')\n",
    "\n",
    "############## Add Player Stats to the Master Table #############\n",
    "\n",
    "new_columns_player = ['Player' + element for element in columns]\n",
    "    \n",
    "#do not rename \"inplace\" because you need the originial names in the next steps    \n",
    "data = data.merge(all_history.rename(columns = dict(zip(columns, new_columns_player))),\n",
    "                  on = ['player_id', 'GAME_DATE'], how = 'left')\n",
    "\n",
    "############## Add Defender Stats to the Master Table #############\n",
    "\n",
    "new_columns_defender = ['Defender' + element for element in columns]\n",
    "    \n",
    "all_history.rename(columns = dict(zip(columns, new_columns_defender)), inplace = True)\n",
    "all_history.rename(columns = {'player_id':'CLOSEST_DEFENDER_PLAYER_ID'}, inplace = True)\n",
    "\n",
    "data = data.merge(all_history,on = ['CLOSEST_DEFENDER_PLAYER_ID', 'GAME_DATE'], how = 'left')\n",
    "all_history = pd.DataFrame() #delete just in case "
   ]
  },
  {
   "cell_type": "code",
   "execution_count": 173,
   "metadata": {},
   "outputs": [
    {
     "data": {
      "text/plain": [
       "<pandas.core.groupby.DataFrameGroupBy object at 0x1a25d59588>"
      ]
     },
     "execution_count": 173,
     "metadata": {},
     "output_type": "execute_result"
    }
   ],
   "source": [
    "shots = data.loc[:, ['player_id', 'GAME_DATE', 'SHOT_NUMBER', 'PERIOD']]\n",
    "shots.merge(data, on = [])"
   ]
  },
  {
   "cell_type": "code",
   "execution_count": 145,
   "metadata": {},
   "outputs": [
    {
     "data": {
      "text/plain": [
       "['GAME_ID1',\n",
       " 'MATCHUP',\n",
       " 'LOCATION',\n",
       " 'W',\n",
       " 'FINAL_MARGIN',\n",
       " 'SHOT_NUMBER',\n",
       " 'PERIOD',\n",
       " 'GAME_CLOCK',\n",
       " 'SHOT_CLOCK',\n",
       " 'DRIBBLES',\n",
       " 'TOUCH_TIME',\n",
       " 'SHOT_DIST',\n",
       " 'PTS_TYPE',\n",
       " 'SHOT_RESULT',\n",
       " 'CLOSEST_DEFENDER_PLAYER_ID',\n",
       " 'CLOSE_DEF_DIST',\n",
       " 'FGM',\n",
       " 'PTS',\n",
       " 'player_id',\n",
       " 'GAME_DATE',\n",
       " 'HOME_TEAM',\n",
       " 'AWAY_TEAM',\n",
       " 'PLAYER_TEAM',\n",
       " 'GAME_CLOCK_SEC',\n",
       " 'WIN_IND',\n",
       " 'THREE_POINTS_SHOT',\n",
       " 'PLAYER_HOME',\n",
       " 'GAME_WEEKDAY',\n",
       " 'GAME_MONTH',\n",
       " 'PlayerShots3pts3Games',\n",
       " 'PlayerShots2pts3Games',\n",
       " 'PlayerSuccessfulShots3pts3Games',\n",
       " 'PlayerSuccessfulShots2pts3Games',\n",
       " 'PlayerPastGamesPlayerWins3Games',\n",
       " 'PlayerPastGamesFinalMargin3Games',\n",
       " 'PlayerPastGamePlayerAccuracy2pts3Games',\n",
       " 'PlayerPastGamePlayerAccuracy3pts3Games',\n",
       " 'PlayerPastGamesPlayerWinPrcnt3Games',\n",
       " 'PlayerShots3pts5Games',\n",
       " 'PlayerShots2pts5Games',\n",
       " 'PlayerSuccessfulShots3pts5Games',\n",
       " 'PlayerSuccessfulShots2pts5Games',\n",
       " 'PlayerPastGamesPlayerWins5Games',\n",
       " 'PlayerPastGamesFinalMargin5Games',\n",
       " 'PlayerPastGamePlayerAccuracy2pts5Games',\n",
       " 'PlayerPastGamePlayerAccuracy3pts5Games',\n",
       " 'PlayerPastGamesPlayerWinPrcnt5Games']"
      ]
     },
     "execution_count": 145,
     "metadata": {},
     "output_type": "execute_result"
    }
   ],
   "source": [
    "list(data)"
   ]
  },
  {
   "cell_type": "code",
   "execution_count": 147,
   "metadata": {},
   "outputs": [
    {
     "ename": "ValueError",
     "evalue": "labels ['MATCHUP'] not contained in axis",
     "output_type": "error",
     "traceback": [
      "\u001b[0;31m---------------------------------------------------------------------------\u001b[0m",
      "\u001b[0;31mValueError\u001b[0m                                Traceback (most recent call last)",
      "\u001b[0;32m<ipython-input-147-5df2d4888812>\u001b[0m in \u001b[0;36m<module>\u001b[0;34m()\u001b[0m\n\u001b[1;32m     26\u001b[0m \u001b[0;34m\u001b[0m\u001b[0m\n\u001b[1;32m     27\u001b[0m \u001b[0;32mfor\u001b[0m \u001b[0mvariable\u001b[0m \u001b[0;32min\u001b[0m \u001b[0mvariables_to_delete\u001b[0m\u001b[0;34m:\u001b[0m\u001b[0;34m\u001b[0m\u001b[0m\n\u001b[0;32m---> 28\u001b[0;31m     \u001b[0mdata\u001b[0m \u001b[0;34m=\u001b[0m \u001b[0mdata\u001b[0m\u001b[0;34m.\u001b[0m\u001b[0mdrop\u001b[0m \u001b[0;34m(\u001b[0m\u001b[0mvariable\u001b[0m\u001b[0;34m,\u001b[0m \u001b[0;36m1\u001b[0m\u001b[0;34m)\u001b[0m\u001b[0;34m\u001b[0m\u001b[0m\n\u001b[0m",
      "\u001b[0;32m~/anaconda3/lib/python3.6/site-packages/pandas/core/generic.py\u001b[0m in \u001b[0;36mdrop\u001b[0;34m(self, labels, axis, index, columns, level, inplace, errors)\u001b[0m\n\u001b[1;32m   2528\u001b[0m         \u001b[0;32mfor\u001b[0m \u001b[0maxis\u001b[0m\u001b[0;34m,\u001b[0m \u001b[0mlabels\u001b[0m \u001b[0;32min\u001b[0m \u001b[0maxes\u001b[0m\u001b[0;34m.\u001b[0m\u001b[0mitems\u001b[0m\u001b[0;34m(\u001b[0m\u001b[0;34m)\u001b[0m\u001b[0;34m:\u001b[0m\u001b[0;34m\u001b[0m\u001b[0m\n\u001b[1;32m   2529\u001b[0m             \u001b[0;32mif\u001b[0m \u001b[0mlabels\u001b[0m \u001b[0;32mis\u001b[0m \u001b[0;32mnot\u001b[0m \u001b[0;32mNone\u001b[0m\u001b[0;34m:\u001b[0m\u001b[0;34m\u001b[0m\u001b[0m\n\u001b[0;32m-> 2530\u001b[0;31m                 \u001b[0mobj\u001b[0m \u001b[0;34m=\u001b[0m \u001b[0mobj\u001b[0m\u001b[0;34m.\u001b[0m\u001b[0m_drop_axis\u001b[0m\u001b[0;34m(\u001b[0m\u001b[0mlabels\u001b[0m\u001b[0;34m,\u001b[0m \u001b[0maxis\u001b[0m\u001b[0;34m,\u001b[0m \u001b[0mlevel\u001b[0m\u001b[0;34m=\u001b[0m\u001b[0mlevel\u001b[0m\u001b[0;34m,\u001b[0m \u001b[0merrors\u001b[0m\u001b[0;34m=\u001b[0m\u001b[0merrors\u001b[0m\u001b[0;34m)\u001b[0m\u001b[0;34m\u001b[0m\u001b[0m\n\u001b[0m\u001b[1;32m   2531\u001b[0m \u001b[0;34m\u001b[0m\u001b[0m\n\u001b[1;32m   2532\u001b[0m         \u001b[0;32mif\u001b[0m \u001b[0minplace\u001b[0m\u001b[0;34m:\u001b[0m\u001b[0;34m\u001b[0m\u001b[0m\n",
      "\u001b[0;32m~/anaconda3/lib/python3.6/site-packages/pandas/core/generic.py\u001b[0m in \u001b[0;36m_drop_axis\u001b[0;34m(self, labels, axis, level, errors)\u001b[0m\n\u001b[1;32m   2560\u001b[0m                 \u001b[0mnew_axis\u001b[0m \u001b[0;34m=\u001b[0m \u001b[0maxis\u001b[0m\u001b[0;34m.\u001b[0m\u001b[0mdrop\u001b[0m\u001b[0;34m(\u001b[0m\u001b[0mlabels\u001b[0m\u001b[0;34m,\u001b[0m \u001b[0mlevel\u001b[0m\u001b[0;34m=\u001b[0m\u001b[0mlevel\u001b[0m\u001b[0;34m,\u001b[0m \u001b[0merrors\u001b[0m\u001b[0;34m=\u001b[0m\u001b[0merrors\u001b[0m\u001b[0;34m)\u001b[0m\u001b[0;34m\u001b[0m\u001b[0m\n\u001b[1;32m   2561\u001b[0m             \u001b[0;32melse\u001b[0m\u001b[0;34m:\u001b[0m\u001b[0;34m\u001b[0m\u001b[0m\n\u001b[0;32m-> 2562\u001b[0;31m                 \u001b[0mnew_axis\u001b[0m \u001b[0;34m=\u001b[0m \u001b[0maxis\u001b[0m\u001b[0;34m.\u001b[0m\u001b[0mdrop\u001b[0m\u001b[0;34m(\u001b[0m\u001b[0mlabels\u001b[0m\u001b[0;34m,\u001b[0m \u001b[0merrors\u001b[0m\u001b[0;34m=\u001b[0m\u001b[0merrors\u001b[0m\u001b[0;34m)\u001b[0m\u001b[0;34m\u001b[0m\u001b[0m\n\u001b[0m\u001b[1;32m   2563\u001b[0m             \u001b[0mdropped\u001b[0m \u001b[0;34m=\u001b[0m \u001b[0mself\u001b[0m\u001b[0;34m.\u001b[0m\u001b[0mreindex\u001b[0m\u001b[0;34m(\u001b[0m\u001b[0;34m**\u001b[0m\u001b[0;34m{\u001b[0m\u001b[0maxis_name\u001b[0m\u001b[0;34m:\u001b[0m \u001b[0mnew_axis\u001b[0m\u001b[0;34m}\u001b[0m\u001b[0;34m)\u001b[0m\u001b[0;34m\u001b[0m\u001b[0m\n\u001b[1;32m   2564\u001b[0m             \u001b[0;32mtry\u001b[0m\u001b[0;34m:\u001b[0m\u001b[0;34m\u001b[0m\u001b[0m\n",
      "\u001b[0;32m~/anaconda3/lib/python3.6/site-packages/pandas/core/indexes/base.py\u001b[0m in \u001b[0;36mdrop\u001b[0;34m(self, labels, errors)\u001b[0m\n\u001b[1;32m   3742\u001b[0m             \u001b[0;32mif\u001b[0m \u001b[0merrors\u001b[0m \u001b[0;34m!=\u001b[0m \u001b[0;34m'ignore'\u001b[0m\u001b[0;34m:\u001b[0m\u001b[0;34m\u001b[0m\u001b[0m\n\u001b[1;32m   3743\u001b[0m                 raise ValueError('labels %s not contained in axis' %\n\u001b[0;32m-> 3744\u001b[0;31m                                  labels[mask])\n\u001b[0m\u001b[1;32m   3745\u001b[0m             \u001b[0mindexer\u001b[0m \u001b[0;34m=\u001b[0m \u001b[0mindexer\u001b[0m\u001b[0;34m[\u001b[0m\u001b[0;34m~\u001b[0m\u001b[0mmask\u001b[0m\u001b[0;34m]\u001b[0m\u001b[0;34m\u001b[0m\u001b[0m\n\u001b[1;32m   3746\u001b[0m         \u001b[0;32mreturn\u001b[0m \u001b[0mself\u001b[0m\u001b[0;34m.\u001b[0m\u001b[0mdelete\u001b[0m\u001b[0;34m(\u001b[0m\u001b[0mindexer\u001b[0m\u001b[0;34m)\u001b[0m\u001b[0;34m\u001b[0m\u001b[0m\n",
      "\u001b[0;31mValueError\u001b[0m: labels ['MATCHUP'] not contained in axis"
     ]
    }
   ],
   "source": [
    "############################## Delete Variables ##############################\n",
    "\n",
    "variables_to_delete = [     \n",
    "                        'MATCHUP',  \n",
    "                        'LOCATION',\n",
    "                        'W',  \n",
    "                        'FINAL_MARGIN', \n",
    "\n",
    "                        'GAME_CLOCK',\n",
    "\n",
    "                        'PTS_TYPE',\n",
    "                        'SHOT_RESULT', \n",
    "\n",
    "                        'PTS', \n",
    "\n",
    "                        'GAME_DATE',\n",
    "\n",
    "    \n",
    "                        'GAME_ID1',\n",
    "                        'CLOSEST_DEFENDER_PLAYER_ID',\n",
    "                        'player_id',\n",
    "                        'HOME_TEAM',\n",
    "                        'AWAY_TEAM',\n",
    "                        'PLAYER_TEAM'\n",
    "                        ]\n",
    "\n",
    "for variable in variables_to_delete:\n",
    "    data = data.drop (variable, 1)"
   ]
  },
  {
   "cell_type": "code",
   "execution_count": 134,
   "metadata": {},
   "outputs": [],
   "source": [
    "data.to_csv('check.csv', index = False, header = True)"
   ]
  },
  {
   "cell_type": "code",
   "execution_count": 148,
   "metadata": {},
   "outputs": [],
   "source": [
    "### Delete Rows with NAs\n",
    "data.dropna(axis = 0, inplace = True)"
   ]
  },
  {
   "cell_type": "code",
   "execution_count": 149,
   "metadata": {},
   "outputs": [],
   "source": [
    "############################## Creating Dummy Variables ##############################\n",
    "\n",
    "data = create_dummies(data,0)"
   ]
  },
  {
   "cell_type": "code",
   "execution_count": 150,
   "metadata": {},
   "outputs": [],
   "source": [
    "y = data.loc[:,'FGM']\n",
    "X = data.drop ('FGM', 1)"
   ]
  },
  {
   "cell_type": "code",
   "execution_count": 151,
   "metadata": {},
   "outputs": [],
   "source": [
    "test_prc = 0.3\n",
    "random = 1992\n",
    "\n",
    "X_train , X_test, y_train, y_test = train_test_split(X, y, test_size = test_prc, random_state = random)"
   ]
  },
  {
   "cell_type": "code",
   "execution_count": 152,
   "metadata": {},
   "outputs": [
    {
     "name": "stdout",
     "output_type": "stream",
     "text": [
      "The algorithm reduced the data from 45 to 25 variables\n"
     ]
    }
   ],
   "source": [
    "############################## Feature Selection ##############################\n",
    "\n",
    "# BoostARoota from: https://github.com/chasedehan/BoostARoota# BoostAR \n",
    "br = BoostARoota(metric='logloss', silent=True)\n",
    "\n",
    "br.fit(X_train,y_train)\n",
    "X_train_reduced = br.transform(X_train)\n",
    "\n",
    "print(\"The algorithm reduced the data from \" + str(X_train.shape[1]) + \" to \" + \n",
    "      str(X_train_reduced.shape[1]) + \" variables\")\n",
    "\n",
    "important_variables = list (X_train_reduced)\n",
    "#important_variables = list (X_train)\n",
    "#important_variables"
   ]
  },
  {
   "cell_type": "code",
   "execution_count": 153,
   "metadata": {},
   "outputs": [],
   "source": [
    "X_train = X_train.loc[:, important_variables]\n",
    "X_test = X_test.loc[:, important_variables]"
   ]
  },
  {
   "cell_type": "code",
   "execution_count": 154,
   "metadata": {},
   "outputs": [
    {
     "name": "stdout",
     "output_type": "stream",
     "text": [
      "Check: \n",
      "Training size is (66411, 25)\n",
      "Testing size is (28463, 25)\n",
      "\n"
     ]
    }
   ],
   "source": [
    "print (\"Check: \\n\" + \n",
    "       \"Training size is \" + str(X_train.shape) + \"\\n\" + \n",
    "       \"Testing size is \" + str(X_test.shape) + \"\\n\"\n",
    "      )"
   ]
  },
  {
   "cell_type": "code",
   "execution_count": 155,
   "metadata": {},
   "outputs": [
    {
     "data": {
      "text/plain": [
       "GradientBoostingClassifier(criterion='friedman_mse', init=None,\n",
       "              learning_rate=0.1, loss='deviance', max_depth=3,\n",
       "              max_features=None, max_leaf_nodes=None,\n",
       "              min_impurity_decrease=0.0, min_impurity_split=None,\n",
       "              min_samples_leaf=1, min_samples_split=2,\n",
       "              min_weight_fraction_leaf=0.0, n_estimators=100,\n",
       "              presort='auto', random_state=None, subsample=1.0, verbose=0,\n",
       "              warm_start=False)"
      ]
     },
     "execution_count": 155,
     "metadata": {},
     "output_type": "execute_result"
    }
   ],
   "source": [
    "best_classifier = GradientBoostingClassifier()#XGBClassifier()\n",
    "best_classifier.fit(X_train, y_train)"
   ]
  },
  {
   "cell_type": "code",
   "execution_count": 175,
   "metadata": {},
   "outputs": [
    {
     "data": {
      "text/plain": [
       "62.42138917190739"
      ]
     },
     "execution_count": 175,
     "metadata": {},
     "output_type": "execute_result"
    }
   ],
   "source": [
    "y_pred = best_classifier.predict(X_test)\n",
    "y_pred_prob = best_classifier.predict_proba(X_test)\n",
    "\n",
    "roc = 100*roc_auc_score(y_test, y_pred)\n",
    "acc = 100*accuracy_score(y_test, y_pred)\n",
    "ll = log_loss(y_test, y_pred_prob)\n",
    "acc"
   ]
  },
  {
   "cell_type": "code",
   "execution_count": 161,
   "metadata": {},
   "outputs": [
    {
     "data": {
      "image/png": "[encoded data removed]",
      "text/plain": [
       "<matplotlib.figure.Figure at 0x1a19fa4fd0>"
      ]
     },
     "metadata": {},
     "output_type": "display_data"
    }
   ],
   "source": [
    "#plot = plot_importance(best_classifier, max_num_features=15)\n",
    "features_plot = pd.Series(best_classifier.feature_importances_, index=X_test.columns).nlargest(13).plot(kind='barh')"
   ]
  },
  {
   "cell_type": "code",
   "execution_count": null,
   "metadata": {},
   "outputs": [],
   "source": []
  }
 ],
 "metadata": {
  "kernelspec": {
   "display_name": "Python 3",
   "language": "python",
   "name": "python3"
  },
  "language_info": {
   "codemirror_mode": {
    "name": "ipython",
    "version": 3
   },
   "file_extension": ".py",
   "mimetype": "text/x-python",
   "name": "python",
   "nbconvert_exporter": "python",
   "pygments_lexer": "ipython3",
   "version": "3.6.5"
  }
 },
 "nbformat": 4,
 "nbformat_minor": 2
}
